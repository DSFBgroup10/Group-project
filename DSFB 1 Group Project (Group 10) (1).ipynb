{
 "cells": [
  {
   "cell_type": "markdown",
   "metadata": {},
   "source": [
    "DSFB 2021 Group 10 project -  Predicting credit card customer churn\n"
   ]
  },
  {
   "cell_type": "code",
   "execution_count": 1,
   "metadata": {},
   "outputs": [
    {
     "name": "stderr",
     "output_type": "stream",
     "text": [
      "Using TensorFlow backend.\n"
     ]
    }
   ],
   "source": [
    "#this is the notebook used for group project codes\n",
    "\n",
    "import pandas as pd #data frames (for storing data)\n",
    "import numpy as np #scientific computing\n",
    "import itertools\n",
    "\n",
    "#matplotlib for plotting\n",
    "import matplotlib.pyplot as plt\n",
    "from matplotlib import gridspec\n",
    "import matplotlib.ticker as mtick #for percentage ticks\n",
    "import scikitplot as skplt \n",
    "\n",
    "from sklearn.svm import SVC\n",
    "from sklearn.linear_model import LogisticRegression\n",
    "\n",
    "from sklearn.model_selection import train_test_split #Data split function\n",
    "from imblearn.over_sampling import SMOTE\n",
    "from sklearn.decomposition import PCA\n",
    "\n",
    "from sklearn.metrics import accuracy_score\n",
    "from sklearn.metrics import confusion_matrix\n",
    "from sklearn.metrics import roc_curve, auc\n",
    "\n",
    "from collections import Counter"
   ]
  },
  {
   "cell_type": "code",
   "execution_count": 3,
   "metadata": {},
   "outputs": [
    {
     "data": {
      "text/html": [
       "<style  type=\"text/css\" >\n",
       "</style><table id=\"T_e7b4dfec_617a_11eb_acaf_49f8a5cb7ea9\" ><thead>    <tr>        <th class=\"blank level0\" ></th>        <th class=\"col_heading level0 col0\" >CLIENTNUM</th>        <th class=\"col_heading level0 col1\" >Attrition_Flag</th>        <th class=\"col_heading level0 col2\" >Customer_Age</th>        <th class=\"col_heading level0 col3\" >Gender</th>        <th class=\"col_heading level0 col4\" >Dependent_count</th>        <th class=\"col_heading level0 col5\" >Education_Level</th>        <th class=\"col_heading level0 col6\" >Marital_Status</th>        <th class=\"col_heading level0 col7\" >Income_Category</th>        <th class=\"col_heading level0 col8\" >Card_Category</th>        <th class=\"col_heading level0 col9\" >Months_on_book</th>        <th class=\"col_heading level0 col10\" >Total_Relationship_Count</th>        <th class=\"col_heading level0 col11\" >Months_Inactive_12_mon</th>        <th class=\"col_heading level0 col12\" >Contacts_Count_12_mon</th>        <th class=\"col_heading level0 col13\" >Credit_Limit</th>        <th class=\"col_heading level0 col14\" >Total_Revolving_Bal</th>        <th class=\"col_heading level0 col15\" >Avg_Open_To_Buy</th>        <th class=\"col_heading level0 col16\" >Total_Amt_Chng_Q4_Q1</th>        <th class=\"col_heading level0 col17\" >Total_Trans_Amt</th>        <th class=\"col_heading level0 col18\" >Total_Trans_Ct</th>        <th class=\"col_heading level0 col19\" >Total_Ct_Chng_Q4_Q1</th>        <th class=\"col_heading level0 col20\" >Avg_Utilization_Ratio</th>        <th class=\"col_heading level0 col21\" >Naive_Bayes_Classifier_Attrition_Flag_Card_Category_Contacts_Count_12_mon_Dependent_count_Education_Level_Months_Inactive_12_mon_1</th>        <th class=\"col_heading level0 col22\" >Naive_Bayes_Classifier_Attrition_Flag_Card_Category_Contacts_Count_12_mon_Dependent_count_Education_Level_Months_Inactive_12_mon_2</th>    </tr></thead><tbody>\n",
       "                <tr>\n",
       "                        <th id=\"T_e7b4dfec_617a_11eb_acaf_49f8a5cb7ea9level0_row0\" class=\"row_heading level0 row0\" >0</th>\n",
       "                        <td id=\"T_e7b4dfec_617a_11eb_acaf_49f8a5cb7ea9row0_col0\" class=\"data row0 col0\" >768805383</td>\n",
       "                        <td id=\"T_e7b4dfec_617a_11eb_acaf_49f8a5cb7ea9row0_col1\" class=\"data row0 col1\" >Existing Customer</td>\n",
       "                        <td id=\"T_e7b4dfec_617a_11eb_acaf_49f8a5cb7ea9row0_col2\" class=\"data row0 col2\" >45</td>\n",
       "                        <td id=\"T_e7b4dfec_617a_11eb_acaf_49f8a5cb7ea9row0_col3\" class=\"data row0 col3\" >M</td>\n",
       "                        <td id=\"T_e7b4dfec_617a_11eb_acaf_49f8a5cb7ea9row0_col4\" class=\"data row0 col4\" >3</td>\n",
       "                        <td id=\"T_e7b4dfec_617a_11eb_acaf_49f8a5cb7ea9row0_col5\" class=\"data row0 col5\" >High School</td>\n",
       "                        <td id=\"T_e7b4dfec_617a_11eb_acaf_49f8a5cb7ea9row0_col6\" class=\"data row0 col6\" >Married</td>\n",
       "                        <td id=\"T_e7b4dfec_617a_11eb_acaf_49f8a5cb7ea9row0_col7\" class=\"data row0 col7\" >$60K - $80K</td>\n",
       "                        <td id=\"T_e7b4dfec_617a_11eb_acaf_49f8a5cb7ea9row0_col8\" class=\"data row0 col8\" >Blue</td>\n",
       "                        <td id=\"T_e7b4dfec_617a_11eb_acaf_49f8a5cb7ea9row0_col9\" class=\"data row0 col9\" >39</td>\n",
       "                        <td id=\"T_e7b4dfec_617a_11eb_acaf_49f8a5cb7ea9row0_col10\" class=\"data row0 col10\" >5</td>\n",
       "                        <td id=\"T_e7b4dfec_617a_11eb_acaf_49f8a5cb7ea9row0_col11\" class=\"data row0 col11\" >1</td>\n",
       "                        <td id=\"T_e7b4dfec_617a_11eb_acaf_49f8a5cb7ea9row0_col12\" class=\"data row0 col12\" >3</td>\n",
       "                        <td id=\"T_e7b4dfec_617a_11eb_acaf_49f8a5cb7ea9row0_col13\" class=\"data row0 col13\" >12691</td>\n",
       "                        <td id=\"T_e7b4dfec_617a_11eb_acaf_49f8a5cb7ea9row0_col14\" class=\"data row0 col14\" >777</td>\n",
       "                        <td id=\"T_e7b4dfec_617a_11eb_acaf_49f8a5cb7ea9row0_col15\" class=\"data row0 col15\" >11914</td>\n",
       "                        <td id=\"T_e7b4dfec_617a_11eb_acaf_49f8a5cb7ea9row0_col16\" class=\"data row0 col16\" >1.335</td>\n",
       "                        <td id=\"T_e7b4dfec_617a_11eb_acaf_49f8a5cb7ea9row0_col17\" class=\"data row0 col17\" >1144</td>\n",
       "                        <td id=\"T_e7b4dfec_617a_11eb_acaf_49f8a5cb7ea9row0_col18\" class=\"data row0 col18\" >42</td>\n",
       "                        <td id=\"T_e7b4dfec_617a_11eb_acaf_49f8a5cb7ea9row0_col19\" class=\"data row0 col19\" >1.625</td>\n",
       "                        <td id=\"T_e7b4dfec_617a_11eb_acaf_49f8a5cb7ea9row0_col20\" class=\"data row0 col20\" >0.061</td>\n",
       "                        <td id=\"T_e7b4dfec_617a_11eb_acaf_49f8a5cb7ea9row0_col21\" class=\"data row0 col21\" >9.3448e-05</td>\n",
       "                        <td id=\"T_e7b4dfec_617a_11eb_acaf_49f8a5cb7ea9row0_col22\" class=\"data row0 col22\" >0.99991</td>\n",
       "            </tr>\n",
       "            <tr>\n",
       "                        <th id=\"T_e7b4dfec_617a_11eb_acaf_49f8a5cb7ea9level0_row1\" class=\"row_heading level0 row1\" >1</th>\n",
       "                        <td id=\"T_e7b4dfec_617a_11eb_acaf_49f8a5cb7ea9row1_col0\" class=\"data row1 col0\" >818770008</td>\n",
       "                        <td id=\"T_e7b4dfec_617a_11eb_acaf_49f8a5cb7ea9row1_col1\" class=\"data row1 col1\" >Existing Customer</td>\n",
       "                        <td id=\"T_e7b4dfec_617a_11eb_acaf_49f8a5cb7ea9row1_col2\" class=\"data row1 col2\" >49</td>\n",
       "                        <td id=\"T_e7b4dfec_617a_11eb_acaf_49f8a5cb7ea9row1_col3\" class=\"data row1 col3\" >F</td>\n",
       "                        <td id=\"T_e7b4dfec_617a_11eb_acaf_49f8a5cb7ea9row1_col4\" class=\"data row1 col4\" >5</td>\n",
       "                        <td id=\"T_e7b4dfec_617a_11eb_acaf_49f8a5cb7ea9row1_col5\" class=\"data row1 col5\" >Graduate</td>\n",
       "                        <td id=\"T_e7b4dfec_617a_11eb_acaf_49f8a5cb7ea9row1_col6\" class=\"data row1 col6\" >Single</td>\n",
       "                        <td id=\"T_e7b4dfec_617a_11eb_acaf_49f8a5cb7ea9row1_col7\" class=\"data row1 col7\" >Less than $40K</td>\n",
       "                        <td id=\"T_e7b4dfec_617a_11eb_acaf_49f8a5cb7ea9row1_col8\" class=\"data row1 col8\" >Blue</td>\n",
       "                        <td id=\"T_e7b4dfec_617a_11eb_acaf_49f8a5cb7ea9row1_col9\" class=\"data row1 col9\" >44</td>\n",
       "                        <td id=\"T_e7b4dfec_617a_11eb_acaf_49f8a5cb7ea9row1_col10\" class=\"data row1 col10\" >6</td>\n",
       "                        <td id=\"T_e7b4dfec_617a_11eb_acaf_49f8a5cb7ea9row1_col11\" class=\"data row1 col11\" >1</td>\n",
       "                        <td id=\"T_e7b4dfec_617a_11eb_acaf_49f8a5cb7ea9row1_col12\" class=\"data row1 col12\" >2</td>\n",
       "                        <td id=\"T_e7b4dfec_617a_11eb_acaf_49f8a5cb7ea9row1_col13\" class=\"data row1 col13\" >8256</td>\n",
       "                        <td id=\"T_e7b4dfec_617a_11eb_acaf_49f8a5cb7ea9row1_col14\" class=\"data row1 col14\" >864</td>\n",
       "                        <td id=\"T_e7b4dfec_617a_11eb_acaf_49f8a5cb7ea9row1_col15\" class=\"data row1 col15\" >7392</td>\n",
       "                        <td id=\"T_e7b4dfec_617a_11eb_acaf_49f8a5cb7ea9row1_col16\" class=\"data row1 col16\" >1.541</td>\n",
       "                        <td id=\"T_e7b4dfec_617a_11eb_acaf_49f8a5cb7ea9row1_col17\" class=\"data row1 col17\" >1291</td>\n",
       "                        <td id=\"T_e7b4dfec_617a_11eb_acaf_49f8a5cb7ea9row1_col18\" class=\"data row1 col18\" >33</td>\n",
       "                        <td id=\"T_e7b4dfec_617a_11eb_acaf_49f8a5cb7ea9row1_col19\" class=\"data row1 col19\" >3.714</td>\n",
       "                        <td id=\"T_e7b4dfec_617a_11eb_acaf_49f8a5cb7ea9row1_col20\" class=\"data row1 col20\" >0.105</td>\n",
       "                        <td id=\"T_e7b4dfec_617a_11eb_acaf_49f8a5cb7ea9row1_col21\" class=\"data row1 col21\" >5.6861e-05</td>\n",
       "                        <td id=\"T_e7b4dfec_617a_11eb_acaf_49f8a5cb7ea9row1_col22\" class=\"data row1 col22\" >0.99994</td>\n",
       "            </tr>\n",
       "            <tr>\n",
       "                        <th id=\"T_e7b4dfec_617a_11eb_acaf_49f8a5cb7ea9level0_row2\" class=\"row_heading level0 row2\" >2</th>\n",
       "                        <td id=\"T_e7b4dfec_617a_11eb_acaf_49f8a5cb7ea9row2_col0\" class=\"data row2 col0\" >713982108</td>\n",
       "                        <td id=\"T_e7b4dfec_617a_11eb_acaf_49f8a5cb7ea9row2_col1\" class=\"data row2 col1\" >Existing Customer</td>\n",
       "                        <td id=\"T_e7b4dfec_617a_11eb_acaf_49f8a5cb7ea9row2_col2\" class=\"data row2 col2\" >51</td>\n",
       "                        <td id=\"T_e7b4dfec_617a_11eb_acaf_49f8a5cb7ea9row2_col3\" class=\"data row2 col3\" >M</td>\n",
       "                        <td id=\"T_e7b4dfec_617a_11eb_acaf_49f8a5cb7ea9row2_col4\" class=\"data row2 col4\" >3</td>\n",
       "                        <td id=\"T_e7b4dfec_617a_11eb_acaf_49f8a5cb7ea9row2_col5\" class=\"data row2 col5\" >Graduate</td>\n",
       "                        <td id=\"T_e7b4dfec_617a_11eb_acaf_49f8a5cb7ea9row2_col6\" class=\"data row2 col6\" >Married</td>\n",
       "                        <td id=\"T_e7b4dfec_617a_11eb_acaf_49f8a5cb7ea9row2_col7\" class=\"data row2 col7\" >$80K - $120K</td>\n",
       "                        <td id=\"T_e7b4dfec_617a_11eb_acaf_49f8a5cb7ea9row2_col8\" class=\"data row2 col8\" >Blue</td>\n",
       "                        <td id=\"T_e7b4dfec_617a_11eb_acaf_49f8a5cb7ea9row2_col9\" class=\"data row2 col9\" >36</td>\n",
       "                        <td id=\"T_e7b4dfec_617a_11eb_acaf_49f8a5cb7ea9row2_col10\" class=\"data row2 col10\" >4</td>\n",
       "                        <td id=\"T_e7b4dfec_617a_11eb_acaf_49f8a5cb7ea9row2_col11\" class=\"data row2 col11\" >1</td>\n",
       "                        <td id=\"T_e7b4dfec_617a_11eb_acaf_49f8a5cb7ea9row2_col12\" class=\"data row2 col12\" >0</td>\n",
       "                        <td id=\"T_e7b4dfec_617a_11eb_acaf_49f8a5cb7ea9row2_col13\" class=\"data row2 col13\" >3418</td>\n",
       "                        <td id=\"T_e7b4dfec_617a_11eb_acaf_49f8a5cb7ea9row2_col14\" class=\"data row2 col14\" >0</td>\n",
       "                        <td id=\"T_e7b4dfec_617a_11eb_acaf_49f8a5cb7ea9row2_col15\" class=\"data row2 col15\" >3418</td>\n",
       "                        <td id=\"T_e7b4dfec_617a_11eb_acaf_49f8a5cb7ea9row2_col16\" class=\"data row2 col16\" >2.594</td>\n",
       "                        <td id=\"T_e7b4dfec_617a_11eb_acaf_49f8a5cb7ea9row2_col17\" class=\"data row2 col17\" >1887</td>\n",
       "                        <td id=\"T_e7b4dfec_617a_11eb_acaf_49f8a5cb7ea9row2_col18\" class=\"data row2 col18\" >20</td>\n",
       "                        <td id=\"T_e7b4dfec_617a_11eb_acaf_49f8a5cb7ea9row2_col19\" class=\"data row2 col19\" >2.333</td>\n",
       "                        <td id=\"T_e7b4dfec_617a_11eb_acaf_49f8a5cb7ea9row2_col20\" class=\"data row2 col20\" >0</td>\n",
       "                        <td id=\"T_e7b4dfec_617a_11eb_acaf_49f8a5cb7ea9row2_col21\" class=\"data row2 col21\" >2.1081e-05</td>\n",
       "                        <td id=\"T_e7b4dfec_617a_11eb_acaf_49f8a5cb7ea9row2_col22\" class=\"data row2 col22\" >0.99998</td>\n",
       "            </tr>\n",
       "            <tr>\n",
       "                        <th id=\"T_e7b4dfec_617a_11eb_acaf_49f8a5cb7ea9level0_row3\" class=\"row_heading level0 row3\" >3</th>\n",
       "                        <td id=\"T_e7b4dfec_617a_11eb_acaf_49f8a5cb7ea9row3_col0\" class=\"data row3 col0\" >769911858</td>\n",
       "                        <td id=\"T_e7b4dfec_617a_11eb_acaf_49f8a5cb7ea9row3_col1\" class=\"data row3 col1\" >Existing Customer</td>\n",
       "                        <td id=\"T_e7b4dfec_617a_11eb_acaf_49f8a5cb7ea9row3_col2\" class=\"data row3 col2\" >40</td>\n",
       "                        <td id=\"T_e7b4dfec_617a_11eb_acaf_49f8a5cb7ea9row3_col3\" class=\"data row3 col3\" >F</td>\n",
       "                        <td id=\"T_e7b4dfec_617a_11eb_acaf_49f8a5cb7ea9row3_col4\" class=\"data row3 col4\" >4</td>\n",
       "                        <td id=\"T_e7b4dfec_617a_11eb_acaf_49f8a5cb7ea9row3_col5\" class=\"data row3 col5\" >High School</td>\n",
       "                        <td id=\"T_e7b4dfec_617a_11eb_acaf_49f8a5cb7ea9row3_col6\" class=\"data row3 col6\" >Unknown</td>\n",
       "                        <td id=\"T_e7b4dfec_617a_11eb_acaf_49f8a5cb7ea9row3_col7\" class=\"data row3 col7\" >Less than $40K</td>\n",
       "                        <td id=\"T_e7b4dfec_617a_11eb_acaf_49f8a5cb7ea9row3_col8\" class=\"data row3 col8\" >Blue</td>\n",
       "                        <td id=\"T_e7b4dfec_617a_11eb_acaf_49f8a5cb7ea9row3_col9\" class=\"data row3 col9\" >34</td>\n",
       "                        <td id=\"T_e7b4dfec_617a_11eb_acaf_49f8a5cb7ea9row3_col10\" class=\"data row3 col10\" >3</td>\n",
       "                        <td id=\"T_e7b4dfec_617a_11eb_acaf_49f8a5cb7ea9row3_col11\" class=\"data row3 col11\" >4</td>\n",
       "                        <td id=\"T_e7b4dfec_617a_11eb_acaf_49f8a5cb7ea9row3_col12\" class=\"data row3 col12\" >1</td>\n",
       "                        <td id=\"T_e7b4dfec_617a_11eb_acaf_49f8a5cb7ea9row3_col13\" class=\"data row3 col13\" >3313</td>\n",
       "                        <td id=\"T_e7b4dfec_617a_11eb_acaf_49f8a5cb7ea9row3_col14\" class=\"data row3 col14\" >2517</td>\n",
       "                        <td id=\"T_e7b4dfec_617a_11eb_acaf_49f8a5cb7ea9row3_col15\" class=\"data row3 col15\" >796</td>\n",
       "                        <td id=\"T_e7b4dfec_617a_11eb_acaf_49f8a5cb7ea9row3_col16\" class=\"data row3 col16\" >1.405</td>\n",
       "                        <td id=\"T_e7b4dfec_617a_11eb_acaf_49f8a5cb7ea9row3_col17\" class=\"data row3 col17\" >1171</td>\n",
       "                        <td id=\"T_e7b4dfec_617a_11eb_acaf_49f8a5cb7ea9row3_col18\" class=\"data row3 col18\" >20</td>\n",
       "                        <td id=\"T_e7b4dfec_617a_11eb_acaf_49f8a5cb7ea9row3_col19\" class=\"data row3 col19\" >2.333</td>\n",
       "                        <td id=\"T_e7b4dfec_617a_11eb_acaf_49f8a5cb7ea9row3_col20\" class=\"data row3 col20\" >0.76</td>\n",
       "                        <td id=\"T_e7b4dfec_617a_11eb_acaf_49f8a5cb7ea9row3_col21\" class=\"data row3 col21\" >0.00013366</td>\n",
       "                        <td id=\"T_e7b4dfec_617a_11eb_acaf_49f8a5cb7ea9row3_col22\" class=\"data row3 col22\" >0.99987</td>\n",
       "            </tr>\n",
       "            <tr>\n",
       "                        <th id=\"T_e7b4dfec_617a_11eb_acaf_49f8a5cb7ea9level0_row4\" class=\"row_heading level0 row4\" >4</th>\n",
       "                        <td id=\"T_e7b4dfec_617a_11eb_acaf_49f8a5cb7ea9row4_col0\" class=\"data row4 col0\" >709106358</td>\n",
       "                        <td id=\"T_e7b4dfec_617a_11eb_acaf_49f8a5cb7ea9row4_col1\" class=\"data row4 col1\" >Existing Customer</td>\n",
       "                        <td id=\"T_e7b4dfec_617a_11eb_acaf_49f8a5cb7ea9row4_col2\" class=\"data row4 col2\" >40</td>\n",
       "                        <td id=\"T_e7b4dfec_617a_11eb_acaf_49f8a5cb7ea9row4_col3\" class=\"data row4 col3\" >M</td>\n",
       "                        <td id=\"T_e7b4dfec_617a_11eb_acaf_49f8a5cb7ea9row4_col4\" class=\"data row4 col4\" >3</td>\n",
       "                        <td id=\"T_e7b4dfec_617a_11eb_acaf_49f8a5cb7ea9row4_col5\" class=\"data row4 col5\" >Uneducated</td>\n",
       "                        <td id=\"T_e7b4dfec_617a_11eb_acaf_49f8a5cb7ea9row4_col6\" class=\"data row4 col6\" >Married</td>\n",
       "                        <td id=\"T_e7b4dfec_617a_11eb_acaf_49f8a5cb7ea9row4_col7\" class=\"data row4 col7\" >$60K - $80K</td>\n",
       "                        <td id=\"T_e7b4dfec_617a_11eb_acaf_49f8a5cb7ea9row4_col8\" class=\"data row4 col8\" >Blue</td>\n",
       "                        <td id=\"T_e7b4dfec_617a_11eb_acaf_49f8a5cb7ea9row4_col9\" class=\"data row4 col9\" >21</td>\n",
       "                        <td id=\"T_e7b4dfec_617a_11eb_acaf_49f8a5cb7ea9row4_col10\" class=\"data row4 col10\" >5</td>\n",
       "                        <td id=\"T_e7b4dfec_617a_11eb_acaf_49f8a5cb7ea9row4_col11\" class=\"data row4 col11\" >1</td>\n",
       "                        <td id=\"T_e7b4dfec_617a_11eb_acaf_49f8a5cb7ea9row4_col12\" class=\"data row4 col12\" >0</td>\n",
       "                        <td id=\"T_e7b4dfec_617a_11eb_acaf_49f8a5cb7ea9row4_col13\" class=\"data row4 col13\" >4716</td>\n",
       "                        <td id=\"T_e7b4dfec_617a_11eb_acaf_49f8a5cb7ea9row4_col14\" class=\"data row4 col14\" >0</td>\n",
       "                        <td id=\"T_e7b4dfec_617a_11eb_acaf_49f8a5cb7ea9row4_col15\" class=\"data row4 col15\" >4716</td>\n",
       "                        <td id=\"T_e7b4dfec_617a_11eb_acaf_49f8a5cb7ea9row4_col16\" class=\"data row4 col16\" >2.175</td>\n",
       "                        <td id=\"T_e7b4dfec_617a_11eb_acaf_49f8a5cb7ea9row4_col17\" class=\"data row4 col17\" >816</td>\n",
       "                        <td id=\"T_e7b4dfec_617a_11eb_acaf_49f8a5cb7ea9row4_col18\" class=\"data row4 col18\" >28</td>\n",
       "                        <td id=\"T_e7b4dfec_617a_11eb_acaf_49f8a5cb7ea9row4_col19\" class=\"data row4 col19\" >2.5</td>\n",
       "                        <td id=\"T_e7b4dfec_617a_11eb_acaf_49f8a5cb7ea9row4_col20\" class=\"data row4 col20\" >0</td>\n",
       "                        <td id=\"T_e7b4dfec_617a_11eb_acaf_49f8a5cb7ea9row4_col21\" class=\"data row4 col21\" >2.1676e-05</td>\n",
       "                        <td id=\"T_e7b4dfec_617a_11eb_acaf_49f8a5cb7ea9row4_col22\" class=\"data row4 col22\" >0.99998</td>\n",
       "            </tr>\n",
       "    </tbody></table>"
      ],
      "text/plain": [
       "<pandas.io.formats.style.Styler at 0x7fd45d136390>"
      ]
     },
     "execution_count": 3,
     "metadata": {},
     "output_type": "execute_result"
    }
   ],
   "source": [
    "data = pd.read_csv('BankChurners.csv')\n",
    "data.head(5).style "
   ]
  },
  {
   "cell_type": "code",
   "execution_count": null,
   "metadata": {},
   "outputs": [],
   "source": []
  }
 ],
 "metadata": {
  "kernelspec": {
   "display_name": "Python 3",
   "language": "python",
   "name": "python3"
  },
  "language_info": {
   "codemirror_mode": {
    "name": "ipython",
    "version": 3
   },
   "file_extension": ".py",
   "mimetype": "text/x-python",
   "name": "python",
   "nbconvert_exporter": "python",
   "pygments_lexer": "ipython3",
   "version": "3.7.3"
  },
  "varInspector": {
   "cols": {
    "lenName": 16,
    "lenType": 16,
    "lenVar": 40
   },
   "kernels_config": {
    "python": {
     "delete_cmd_postfix": "",
     "delete_cmd_prefix": "del ",
     "library": "var_list.py",
     "varRefreshCmd": "print(var_dic_list())"
    },
    "r": {
     "delete_cmd_postfix": ") ",
     "delete_cmd_prefix": "rm(",
     "library": "var_list.r",
     "varRefreshCmd": "cat(var_dic_list()) "
    }
   },
   "types_to_exclude": [
    "module",
    "function",
    "builtin_function_or_method",
    "instance",
    "_Feature"
   ],
   "window_display": false
  }
 },
 "nbformat": 4,
 "nbformat_minor": 2
}
